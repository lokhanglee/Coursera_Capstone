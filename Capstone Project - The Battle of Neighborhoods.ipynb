{
 "cells": [
  {
   "cell_type": "markdown",
   "metadata": {
    "collapsed": true
   },
   "source": [
    "# Capstone Project - The Battle of Neighborhoods (Week 1)"
   ]
  },
  {
   "cell_type": "markdown",
   "metadata": {},
   "source": [
    "## _Introduction_\n",
    "\n",
    "I am a member of a data science team in a IT company in Hong Kong. My client, a business person running several restaurants in Hong Kong, has approached our company recently seeking for our help. He wanted to set up a new Japanese restaurant in Hong Kong as he observed that Hong Kong people were extremely fond of Japanese food. However he was not sure where in Hong Kong should this new Japanese restaurant be set up.\n",
    "\n",
    "Our team attempted to fulfill his need by the power of data science."
   ]
  },
  {
   "cell_type": "markdown",
   "metadata": {},
   "source": [
    "## _Business Problem_\n",
    "\n",
    "The business problem that was to be solved using data science and the Foursquare location data, was to identify where in Hong Kong should my client opt to get his Japanese restaurant established. To better understand his needs, the following question was asked:\n",
    "\n",
    "_\"What are your preferences about the location of this new Japanese restaurant to be established?\"_\n",
    "\n",
    "And the answer from the target audience, that was my client, was that:\n",
    "\n",
    "_\"I want somewhere with strong flow of people. Districts that are with plenty of restaurants sound good. However, I hope that I would face less compeitition and ideally the candidates should not have too many Japanese restaurants.\"_\n",
    "\n",
    "Upon further communication and clarification, the following criteria were set:\n",
    "\n",
    "1. The proposed location should be one of the top 5 districts in Hong Kong having the most restaurants in general;\n",
    "2. At the same time, the proposed location should have the least percentage of Japanese restaurants."
   ]
  },
  {
   "cell_type": "markdown",
   "metadata": {},
   "source": [
    "## _Data_\n",
    "\n",
    "The data that was used came from:\n",
    "1. Districts in Hong Kong from a website called openrice https://raw.githubusercontent.com/lokhanglee/Coursera_Capstone/main/openrice.jpg;\n",
    "2. Foursquare location data to find out the numbers and the kinds of restaurants in various districts in Hong Kong."
   ]
  }
 ],
 "metadata": {
  "kernelspec": {
   "display_name": "Python 3.7",
   "language": "python",
   "name": "python3"
  },
  "language_info": {
   "codemirror_mode": {
    "name": "ipython",
    "version": 3
   },
   "file_extension": ".py",
   "mimetype": "text/x-python",
   "name": "python",
   "nbconvert_exporter": "python",
   "pygments_lexer": "ipython3",
   "version": "3.7.9"
  }
 },
 "nbformat": 4,
 "nbformat_minor": 1
}
